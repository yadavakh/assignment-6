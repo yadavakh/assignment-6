{
 "cells": [
  {
   "cell_type": "code",
   "execution_count": null,
   "metadata": {},
   "outputs": [],
   "source": [
    "import csv\n",
    "import numpy as np\n",
    "import matplotlib.pyplot as plt\n",
    "\n",
    "# Read data from csv file\n",
    "\n",
    "def read_csv(filename):\n",
    "    X1 = []\n",
    "    X2 = []\n",
    "    Y = []\n",
    "    with open(filename):\n",
    "        X1 = []\n",
    "        X2 = []\n",
    "        Y = []\n",
    "        with open(filename) as f:\n",
    "            reader = csv.reader(f)\n",
    "            next(reader)\n",
    "            for row in reader:\n",
    "                X1.append(float(row[0]))\n",
    "                X2.append(float(row[1]))\n",
    "                Y.append(float(row[2]))\n",
    "            X1 = np.array(X1)\n",
    "            X2 = np.array(X2)\n",
    "            Y = np.array(Y)\n",
    "\n",
    "            return X1, X2, Y\n",
    "\n",
    "\n",
    "if __name__ == '__main__':\n",
    "    X1, X2, Y = read_csv('d.csv')\n",
    "\n",
    "# Scatter plot of X1 vs Y\n",
    "plt.scatter(X1, Y, color = 'blue')\n",
    "plt.xlabel('X1')\n",
    "plt.ylabel('Y')\n",
    "plt.title('Scatter plot of X1 vs Y')\n",
    "plt.show() \n",
    "\n",
    "# Scatter plot of X2 vs Y\n",
    "plt.scatter(X2, Y, color = 'blue')\n",
    "plt.xlabel('X2')\n",
    "plt.ylabel('Y')\n",
    "plt.title('Scatter plot of X2 vs Y')\n",
    "plt.show() \n",
    "\n",
    "# correlation between X1 and Y\n",
    "correlation_X1 = np.corrcoef(X1, Y)\n",
    "print(\"Correlation between X1 and Y\\n\", format(correlation_X1[0][1]))\n",
    "\n",
    "# correlation between X2 and Y\n",
    "correlation_X2 = np.corrcoef(X2, Y)\n",
    "print(\"Correlation between X2 and Y\\n\", format(correlation_X2[0][1]))\n",
    "\n",
    "X1_T = np.transpose(X1)\n",
    "X2_T = np.transpose(X2)\n",
    "x_1 = np.ones([19,])\n",
    "x_1_T = np.transpose(x_1)\n",
    "x = np.array([x_1_T, X1_T, X2_T])\n",
    "X = np.transpose(x)\n",
    "\n",
    "# Calculation of beta\n",
    "XTX = np.transpose(X)@ X\n",
    "XTX_I = np.linalg.inv(XTX)\n",
    "XTY = np.transpose(X)@ Y\n",
    "\n",
    "beta = XTX_I @ XTY\n",
    "print(\"Beta vector\\n\", beta)\n",
    "\n",
    "b0 = beta[0]\n",
    "b1 = beta[1]\n",
    "b2 = beta[2]\n",
    "\n",
    "# Fitted line\n",
    "y_pred = b0 + b1 * X1 + b2 * X2\n",
    "print(\"\\nFitted line: \\n\". format(b0, b1, b2))\n",
    "\n",
    "# Line plot\n",
    "fig = plt.figure(figsize = (4,4))\n",
    "ax = fig.add_subplot(111, projection = '3d')\n",
    "ax.scatter(X1, X2, y_pred, linewidths = 2, alpha = .7, edgecolor = 'm', s = 8, c = y_pred)\n",
    "plt.xlabel('X1')\n",
    "plt.ylabel('Y')\n",
    "plt.title('X1 vs Y')\n",
    "plt.show()\n",
    "\n",
    "\n",
    "# check if multicollinearity exists or not\n",
    "print(\"\\nif xi and xj regressors are correlated then |r_ij| = unity\")\n",
    "print(\"\\nThe correlation matrix (XTranspose*X):\\n\", XTX)\n",
    "print(\"\\nThe non diagonal elements in this correlation matrix do not tends to unity.\\nHence multicollinearity does not exist in our model.\")"
   ]
  },
  {
   "cell_type": "code",
   "execution_count": null,
   "metadata": {},
   "outputs": [],
   "source": []
  },
  {
   "cell_type": "code",
   "execution_count": 1,
   "metadata": {},
   "outputs": [
    {
     "ename": "NameError",
     "evalue": "name 'read_csv' is not defined",
     "output_type": "error",
     "traceback": [
      "\u001b[1;31m---------------------------------------------------------------------------\u001b[0m",
      "\u001b[1;31mNameError\u001b[0m                                 Traceback (most recent call last)",
      "\u001b[1;32m<ipython-input-1-823604e391f5>\u001b[0m in \u001b[0;36m<module>\u001b[1;34m\u001b[0m\n\u001b[0;32m      1\u001b[0m \u001b[1;32mif\u001b[0m \u001b[0m__name__\u001b[0m \u001b[1;33m==\u001b[0m \u001b[1;34m'__main__'\u001b[0m\u001b[1;33m:\u001b[0m\u001b[1;33m\u001b[0m\u001b[1;33m\u001b[0m\u001b[0m\n\u001b[1;32m----> 2\u001b[1;33m     \u001b[0mX1\u001b[0m\u001b[1;33m,\u001b[0m \u001b[0mX2\u001b[0m\u001b[1;33m,\u001b[0m \u001b[0mY\u001b[0m \u001b[1;33m=\u001b[0m \u001b[0mread_csv\u001b[0m\u001b[1;33m(\u001b[0m\u001b[1;34m'd.csv'\u001b[0m\u001b[1;33m)\u001b[0m\u001b[1;33m\u001b[0m\u001b[1;33m\u001b[0m\u001b[0m\n\u001b[0m",
      "\u001b[1;31mNameError\u001b[0m: name 'read_csv' is not defined"
     ]
    }
   ],
   "source": [
    "if __name__ == '__main__':\n",
    "    X1, X2, Y = read_csv('d.csv')\n"
   ]
  },
  {
   "cell_type": "code",
   "execution_count": null,
   "metadata": {},
   "outputs": [],
   "source": [
    "# Scatter plot of X1 vs Y\n",
    "plt.scatter(X1, Y, color = 'blue')\n",
    "plt.xlabel('X1')\n",
    "plt.ylabel('Y')\n",
    "plt.title('Scatter plot of X1 vs Y')\n",
    "plt.show() "
   ]
  },
  {
   "cell_type": "code",
   "execution_count": null,
   "metadata": {},
   "outputs": [],
   "source": [
    "# Scatter plot of X2 vs Y\n",
    "plt.scatter(X2, Y, color = 'blue')\n",
    "plt.xlabel('X2')\n",
    "plt.ylabel('Y')\n",
    "plt.title('Scatter plot of X2 vs Y')\n",
    "plt.show() "
   ]
  },
  {
   "cell_type": "code",
   "execution_count": null,
   "metadata": {},
   "outputs": [],
   "source": [
    "# correlation between X1 and Y\n",
    "correlation_X1 = np.corrcoef(X1, Y)\n",
    "print(\"Correlation between X1 and Y\\n\", format(correlation_X1[0][1]))\n",
    "\n",
    "# correlation between X2 and Y\n",
    "correlation_X2 = np.corrcoef(X2, Y)\n",
    "print(\"Correlation between X2 and Y\\n\", format(correlation_X2[0][1]))\n",
    "\n",
    "X1_T = np.transpose(X1)\n",
    "X2_T = np.transpose(X2)\n",
    "x_1 = np.ones([19,])\n",
    "x_1_T = np.transpose(x_1)\n",
    "x = np.array([x_1_T, X1_T, X2_T])\n",
    "X = np.transpose(x)"
   ]
  },
  {
   "cell_type": "code",
   "execution_count": null,
   "metadata": {},
   "outputs": [],
   "source": [
    "# Calculation of beta\n",
    "XTX = np.transpose(X)@ X\n",
    "XTX_I = np.linalg.inv(XTX)\n",
    "XTY = np.transpose(X)@ Y\n",
    "\n",
    "beta = XTX_I @ XTY\n",
    "print(\"Beta vector\\n\", beta)\n",
    "\n",
    "b0 = beta[0]\n",
    "b1 = beta[1]\n",
    "b2 = beta[2]"
   ]
  },
  {
   "cell_type": "code",
   "execution_count": null,
   "metadata": {},
   "outputs": [],
   "source": [
    "# Fitted line\n",
    "y_pred = b0 + b1 * X1 + b2 * X2\n",
    "print(\"\\nFitted line: \\n\". format(b0, b1, b2))\n",
    "\n",
    "# Line plot\n",
    "fig = plt.figure(figsize = (4,4))\n",
    "ax = fig.add_subplot(111, projection = '3d')\n",
    "ax.scatter(X1, X2, y_pred, linewidths = 2, alpha = .7, edgecolor = 'm', s = 8, c = y_pred)\n",
    "plt.xlabel('X1')\n",
    "plt.ylabel('Y')\n",
    "plt.title('X1 vs Y')\n",
    "plt.show()"
   ]
  }
 ],
 "metadata": {
  "kernelspec": {
   "display_name": "Python 3",
   "language": "python",
   "name": "python3"
  },
  "language_info": {
   "codemirror_mode": {
    "name": "ipython",
    "version": 3
   },
   "file_extension": ".py",
   "mimetype": "text/x-python",
   "name": "python",
   "nbconvert_exporter": "python",
   "pygments_lexer": "ipython3",
   "version": "3.8.3"
  }
 },
 "nbformat": 4,
 "nbformat_minor": 4
}
